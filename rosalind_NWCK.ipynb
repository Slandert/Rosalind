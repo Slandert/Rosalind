{
 "cells": [
  {
   "cell_type": "code",
   "execution_count": null,
   "metadata": {
    "collapsed": true
   },
   "outputs": [],
   "source": [
    "\"\"\"\n",
    "Rosalind problem nwck: http://rosalind.info/problems/nwck/\n",
    "Author: Michael Ayars\n",
    "\n",
    "Given: A collection of nn trees (n≤40n≤40) in Newick format, with each tree containing at most 200 nodes; each tree TkTk is followed by a pair of nodes xkxk and ykyk in TkTk.\n",
    "\n",
    "Return: A collection of nn positive integers, for which the kkth integer represents the distance between xkxk and ykyk in TkTk.\n",
    "\n",
    "\n",
    "\"\"\""
   ]
  },
  {
   "cell_type": "code",
   "execution_count": 83,
   "metadata": {
    "collapsed": false
   },
   "outputs": [],
   "source": [
    "from io import StringIO\n",
    "from Bio import Phylo"
   ]
  },
  {
   "cell_type": "code",
   "execution_count": 105,
   "metadata": {
    "collapsed": false
   },
   "outputs": [],
   "source": [
    "def add_default_branch_lengths(s, branch_length):\n",
    "    \n",
    "    \"\"\"\n",
    "    For reasons unclear to me, Phylo.read from Biopython sets default branch length (if none is specified) to 0 and has no \n",
    "    argument/function to change it.  This is a janky solution to take tree specifications from the Rosalind problem and give them a branch length.\n",
    "    \n",
    "    string s = Newick tree specification, missing branch lengths, e.g: (cat)dog;\n",
    "    int branch_length = default branch length to add.\n",
    "    \n",
    "    Returns string Newick tree specification with branch_length added to all branches.\n",
    "    \n",
    "    \"\"\"\n",
    "    \n",
    "    insert = ':' + str(branch_length)\n",
    "    s = s.replace(')', insert + ')')\n",
    "    s = s.replace(',', insert + ',')\n",
    "    s = s.replace(';', insert + ';')\n",
    "    \n",
    "    return s\n",
    "\n",
    "    "
   ]
  },
  {
   "cell_type": "code",
   "execution_count": 108,
   "metadata": {
    "collapsed": false
   },
   "outputs": [
    {
     "name": "stdout",
     "output_type": "stream",
     "text": [
      "14 17 19 13 15 11 18 10 25 8 14 9 16 16 26 2 18 7 11 12 39 2 2 37 17 30 2 8 15 41 10 10 29 47 2 9 2 2 2\n"
     ]
    }
   ],
   "source": [
    "if __name__ == \"__main__\":\n",
    "    distances = []\n",
    "    \n",
    "    dataset = [line.split('\\n') for line in open('rosalind/inputData/rosalind_input_NWCK.txt').read().strip().split('\\n\\n')]\n",
    "    \n",
    "    for s, nodes in dataset:\n",
    "        node1, node2 = nodes.split()\n",
    "        r = add_default_branch_lengths(s, 1)\n",
    "        tree = Phylo.read(StringIO(r), 'newick')\n",
    "        \n",
    "        distances.append(int(tree.distance(node1,node2)))\n",
    "        \n",
    "    print (' '.join(map(str, distances)))"
   ]
  },
  {
   "cell_type": "code",
   "execution_count": null,
   "metadata": {
    "collapsed": true
   },
   "outputs": [],
   "source": []
  }
 ],
 "metadata": {
  "kernelspec": {
   "display_name": "Python 3",
   "language": "python",
   "name": "python3"
  },
  "language_info": {
   "codemirror_mode": {
    "name": "ipython",
    "version": 3
   },
   "file_extension": ".py",
   "mimetype": "text/x-python",
   "name": "python",
   "nbconvert_exporter": "python",
   "pygments_lexer": "ipython3",
   "version": "3.6.0"
  }
 },
 "nbformat": 4,
 "nbformat_minor": 2
}
