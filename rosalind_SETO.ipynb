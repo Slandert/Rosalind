{
 "cells": [
  {
   "cell_type": "code",
   "execution_count": 49,
   "metadata": {
    "collapsed": false
   },
   "outputs": [],
   "source": [
    "def union(a, b):\n",
    "    return a | b\n",
    "    \n",
    "def intersect(a, b):\n",
    "    return a & b\n",
    "\n",
    "def subtract(a,b):\n",
    "    return a - b\n",
    "\n",
    "def complement(a, n):\n",
    "    return set(range(1, n + 1)) - a\n",
    "\n",
    "if __name__ == \"__main__\":\n",
    "    \n",
    "    dat = open(\"rosalind_input_seto.txt\").readlines()\n",
    "    \n",
    "    n = int(dat[0])\n",
    "    a = set(map(int, dat[1].strip()[1:-1].split(', ')))\n",
    "    b = set(map(int, dat[2].strip()[1:-1].split(', ')))\n",
    "\n",
    "    \n",
    "    with open(\"rosalind_output_seto.txt\", 'w') as out:\n",
    "        out.write(str(union(a,b)))\n",
    "        out.write(str(intersect(a,b)))\n",
    "        out.write(str(subtract(a,b)))\n",
    "        out.write(str(subtract(b,a)))\n",
    "        out.write(str(complement(a, n)))\n",
    "        out.write(str(complement(b, n)))"
   ]
  },
  {
   "cell_type": "code",
   "execution_count": null,
   "metadata": {
    "collapsed": true
   },
   "outputs": [],
   "source": []
  }
 ],
 "metadata": {
  "kernelspec": {
   "display_name": "Python 3",
   "language": "python",
   "name": "python3"
  },
  "language_info": {
   "codemirror_mode": {
    "name": "ipython",
    "version": 3
   },
   "file_extension": ".py",
   "mimetype": "text/x-python",
   "name": "python",
   "nbconvert_exporter": "python",
   "pygments_lexer": "ipython3",
   "version": "3.6.0"
  }
 },
 "nbformat": 4,
 "nbformat_minor": 2
}
